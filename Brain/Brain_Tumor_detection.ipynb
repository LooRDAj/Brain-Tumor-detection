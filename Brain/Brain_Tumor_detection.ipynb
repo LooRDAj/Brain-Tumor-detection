{
 "cells": [
  {
   "cell_type": "code",
   "execution_count": 3,
   "metadata": {
    "colab": {
     "base_uri": "https://localhost:8080/"
    },
    "id": "qkvagWn567oi",
    "outputId": "31bb1e2f-729e-4861-ec39-9b27c961605b"
   },
   "outputs": [
    {
     "name": "stdout",
     "output_type": "stream",
     "text": [
      "Drive already mounted at /content/drive; to attempt to forcibly remount, call drive.mount(\"/content/drive\", force_remount=True).\n"
     ]
    }
   ],
   "source": [
    "from google.colab import drive\n",
    "drive.mount('/content/drive')\n"
   ]
  },
  {
   "cell_type": "code",
   "execution_count": 4,
   "metadata": {
    "id": "SwHBlSy__dJA"
   },
   "outputs": [],
   "source": [
    "datapath=r\"/content/drive/MyDrive/brain_tumor_dataset\"\n"
   ]
  },
  {
   "cell_type": "code",
   "execution_count": 5,
   "metadata": {
    "id": "mhiBOxvmAAd8"
   },
   "outputs": [],
   "source": [
    "import numpy as np\n",
    "import os\n",
    "import cv2"
   ]
  },
  {
   "cell_type": "code",
   "execution_count": 26,
   "metadata": {
    "id": "QXnZHDBaARbR"
   },
   "outputs": [],
   "source": [
    "categories=[\"no\",'yes']\n",
    "data=[]\n",
    "\n",
    "for cat in categories:\n",
    "    path=os.path.join(datapath,cat)\n",
    "    for img in os.listdir(path) :\n",
    "        image=cv2.imread(os.path.join(path,img),cv2.IMREAD_GRAYSCALE)\n",
    "        image=cv2.resize(image,(32,32))\n",
    "        data.append([image,0 if cat=='no' else 1])\n",
    "\n",
    "    "
   ]
  },
  {
   "cell_type": "code",
   "execution_count": 27,
   "metadata": {
    "id": "j_GBGXYFCGs2"
   },
   "outputs": [],
   "source": [
    "import random\n",
    "random.shuffle(data)\n"
   ]
  },
  {
   "cell_type": "code",
   "execution_count": 96,
   "metadata": {
    "id": "x5Tdx1ELddPK"
   },
   "outputs": [],
   "source": [
    "X=[]\n",
    "y=[]\n",
    "for img,label in data:\n",
    "  X.append(img)\n",
    "  y.append(label)\n",
    "X=np.array(X).reshape(253,32,32,1)\n",
    "y=np.array(y).reshape(-1,1)"
   ]
  },
  {
   "cell_type": "code",
   "execution_count": 97,
   "metadata": {
    "id": "kgcN8ASZgynj"
   },
   "outputs": [],
   "source": [
    "X=X/255.0"
   ]
  },
  {
   "cell_type": "code",
   "execution_count": 98,
   "metadata": {
    "id": "dtb0eZwOR_FT"
   },
   "outputs": [],
   "source": [
    "import tensorflow as tf\n",
    "from tensorflow import keras\n",
    "from tensorflow.keras import layers\n",
    "from tensorflow.keras.models import Sequential"
   ]
  },
  {
   "cell_type": "code",
   "execution_count": 121,
   "metadata": {
    "id": "PEcEWkl7PhBG"
   },
   "outputs": [],
   "source": [
    "num_classes = 2\n",
    "\n",
    "model = Sequential([\n",
    "  layers.experimental.preprocessing.RandomFlip(\"horizontal_and_vertical\"),\n",
    "  layers.experimental.preprocessing.RandomRotation(0.2),\n",
    "  layers.experimental.preprocessing.Resizing(40, 40),\n",
    "  layers.experimental.preprocessing.Rescaling(1./255),\n",
    "  layers.Conv2D(20,(3,3), padding='same', activation='relu'),\n",
    "  layers.MaxPooling2D(),\n",
    "  layers.Conv2D(40, (3,3), padding='same', activation='relu'),\n",
    "  layers.MaxPooling2D(),\n",
    "  layers.Conv2D(40, (3,3), padding='same', activation='relu'),\n",
    "  layers.MaxPooling2D(),\n",
    "  layers.Flatten(),\n",
    "  layers.Dense(256, activation='relu'),\n",
    "  layers.Dropout(0.2),\n",
    "  layers.Dense(128, activation='relu'),\n",
    "  layers.Dropout(0.2),\n",
    "  layers.Dense(64, activation='relu'),\n",
    "  layers.Dense(num_classes,activation='relu')\n",
    "])\n",
    "model.compile(optimizer='adam',\n",
    "              loss='BinaryCrossentropy',\n",
    "              metrics=['accuracy'])"
   ]
  },
  {
   "cell_type": "code",
   "execution_count": 122,
   "metadata": {
    "colab": {
     "base_uri": "https://localhost:8080/"
    },
    "id": "khGDXBkpXspF",
    "outputId": "92d26d63-9d23-4a9a-ff3e-99c93df1c36c"
   },
   "outputs": [
    {
     "name": "stdout",
     "output_type": "stream",
     "text": [
      "Epoch 1/50\n",
      "8/8 - 1s - loss: 3.3858 - accuracy: 0.4190\n",
      "Epoch 2/50\n",
      "8/8 - 0s - loss: 1.1824 - accuracy: 0.4150\n",
      "Epoch 3/50\n",
      "8/8 - 0s - loss: 0.7388 - accuracy: 0.3992\n",
      "Epoch 4/50\n",
      "8/8 - 0s - loss: 0.7056 - accuracy: 0.4111\n",
      "Epoch 5/50\n",
      "8/8 - 0s - loss: 0.7164 - accuracy: 0.5771\n",
      "Epoch 6/50\n",
      "8/8 - 0s - loss: 0.7099 - accuracy: 0.5573\n",
      "Epoch 7/50\n",
      "8/8 - 0s - loss: 0.6662 - accuracy: 0.5415\n",
      "Epoch 8/50\n",
      "8/8 - 0s - loss: 0.6745 - accuracy: 0.4901\n",
      "Epoch 9/50\n",
      "8/8 - 0s - loss: 0.6785 - accuracy: 0.4545\n",
      "Epoch 10/50\n",
      "8/8 - 0s - loss: 0.6730 - accuracy: 0.4269\n",
      "Epoch 11/50\n",
      "8/8 - 0s - loss: 0.6839 - accuracy: 0.4545\n",
      "Epoch 12/50\n",
      "8/8 - 0s - loss: 0.7071 - accuracy: 0.4862\n",
      "Epoch 13/50\n",
      "8/8 - 0s - loss: 0.6768 - accuracy: 0.4980\n",
      "Epoch 14/50\n",
      "8/8 - 0s - loss: 0.6793 - accuracy: 0.4545\n",
      "Epoch 15/50\n",
      "8/8 - 0s - loss: 0.6859 - accuracy: 0.4625\n",
      "Epoch 16/50\n",
      "8/8 - 0s - loss: 0.6744 - accuracy: 0.5534\n",
      "Epoch 17/50\n",
      "8/8 - 0s - loss: 0.6745 - accuracy: 0.5099\n",
      "Epoch 18/50\n",
      "8/8 - 0s - loss: 0.6791 - accuracy: 0.4980\n",
      "Epoch 19/50\n",
      "8/8 - 0s - loss: 0.6771 - accuracy: 0.5415\n",
      "Epoch 20/50\n",
      "8/8 - 0s - loss: 0.6751 - accuracy: 0.4862\n",
      "Epoch 21/50\n",
      "8/8 - 0s - loss: 0.6808 - accuracy: 0.4980\n",
      "Epoch 22/50\n",
      "8/8 - 0s - loss: 0.6772 - accuracy: 0.5059\n",
      "Epoch 23/50\n",
      "8/8 - 0s - loss: 0.6876 - accuracy: 0.4980\n",
      "Epoch 24/50\n",
      "8/8 - 0s - loss: 0.6792 - accuracy: 0.5138\n",
      "Epoch 25/50\n",
      "8/8 - 0s - loss: 0.6788 - accuracy: 0.4664\n",
      "Epoch 26/50\n",
      "8/8 - 0s - loss: 0.6655 - accuracy: 0.4427\n",
      "Epoch 27/50\n",
      "8/8 - 0s - loss: 0.6769 - accuracy: 0.5375\n",
      "Epoch 28/50\n",
      "8/8 - 0s - loss: 0.6886 - accuracy: 0.4585\n",
      "Epoch 29/50\n",
      "8/8 - 0s - loss: 0.6825 - accuracy: 0.5099\n",
      "Epoch 30/50\n",
      "8/8 - 0s - loss: 0.6775 - accuracy: 0.4980\n",
      "Epoch 31/50\n",
      "8/8 - 0s - loss: 0.6825 - accuracy: 0.5138\n",
      "Epoch 32/50\n",
      "8/8 - 0s - loss: 0.6863 - accuracy: 0.4625\n",
      "Epoch 33/50\n",
      "8/8 - 0s - loss: 0.6918 - accuracy: 0.4664\n",
      "Epoch 34/50\n",
      "8/8 - 0s - loss: 0.6784 - accuracy: 0.5217\n",
      "Epoch 35/50\n",
      "8/8 - 0s - loss: 0.7001 - accuracy: 0.4862\n",
      "Epoch 36/50\n",
      "8/8 - 0s - loss: 0.6932 - accuracy: 0.5692\n",
      "Epoch 37/50\n",
      "8/8 - 0s - loss: 0.6851 - accuracy: 0.4980\n",
      "Epoch 38/50\n",
      "8/8 - 0s - loss: 0.6650 - accuracy: 0.5099\n",
      "Epoch 39/50\n",
      "8/8 - 0s - loss: 0.6582 - accuracy: 0.5415\n",
      "Epoch 40/50\n",
      "8/8 - 0s - loss: 0.6628 - accuracy: 0.4743\n",
      "Epoch 41/50\n",
      "8/8 - 0s - loss: 0.6797 - accuracy: 0.4783\n",
      "Epoch 42/50\n",
      "8/8 - 0s - loss: 0.6827 - accuracy: 0.5771\n",
      "Epoch 43/50\n",
      "8/8 - 0s - loss: 0.6677 - accuracy: 0.4980\n",
      "Epoch 44/50\n",
      "8/8 - 0s - loss: 0.6705 - accuracy: 0.5178\n",
      "Epoch 45/50\n",
      "8/8 - 0s - loss: 0.6888 - accuracy: 0.4506\n",
      "Epoch 46/50\n",
      "8/8 - 0s - loss: 0.6809 - accuracy: 0.5455\n",
      "Epoch 47/50\n",
      "8/8 - 0s - loss: 0.6763 - accuracy: 0.5336\n",
      "Epoch 48/50\n",
      "8/8 - 0s - loss: 0.6787 - accuracy: 0.4941\n",
      "Epoch 49/50\n",
      "8/8 - 0s - loss: 0.6764 - accuracy: 0.5494\n",
      "Epoch 50/50\n",
      "8/8 - 0s - loss: 0.6864 - accuracy: 0.5099\n"
     ]
    },
    {
     "data": {
      "text/plain": [
       "<tensorflow.python.keras.callbacks.History at 0x7f45c59de2b0>"
      ]
     },
     "execution_count": 122,
     "metadata": {
      "tags": []
     },
     "output_type": "execute_result"
    }
   ],
   "source": [
    "model.fit(X,y, epochs=50,verbose=2)\n"
   ]
  },
  {
   "cell_type": "code",
   "execution_count": 128,
   "metadata": {
    "id": "mGGOMYm9hf_Z"
   },
   "outputs": [],
   "source": [
    "y_pred=model.predict(X[200:240])"
   ]
  },
  {
   "cell_type": "code",
   "execution_count": 129,
   "metadata": {
    "id": "4kkIArRwt-XJ"
   },
   "outputs": [],
   "source": [
    "y_pred=[np.argmax(i) for i in y_pred]"
   ]
  },
  {
   "cell_type": "code",
   "execution_count": 133,
   "metadata": {
    "id": "t1FiPoMkuNmU"
   },
   "outputs": [],
   "source": [
    "from sklearn.metrics import confusion_matrix"
   ]
  },
  {
   "cell_type": "code",
   "execution_count": 134,
   "metadata": {
    "id": "HG62c-s1uPVA"
   },
   "outputs": [],
   "source": [
    "cm=confusion_matrix(y_pred,y[200:240])"
   ]
  },
  {
   "cell_type": "code",
   "execution_count": 135,
   "metadata": {
    "id": "e8Q6tb_IuSzx"
   },
   "outputs": [],
   "source": [
    "import seaborn as sn"
   ]
  },
  {
   "cell_type": "code",
   "execution_count": 136,
   "metadata": {
    "colab": {
     "base_uri": "https://localhost:8080/",
     "height": 282
    },
    "id": "JxH_RKOVvdzy",
    "outputId": "c6ef7988-f57c-48d8-f1c3-66d4f9c25d58"
   },
   "outputs": [
    {
     "data": {
      "text/plain": [
       "<matplotlib.axes._subplots.AxesSubplot at 0x7f45b87a29b0>"
      ]
     },
     "execution_count": 136,
     "metadata": {
      "tags": []
     },
     "output_type": "execute_result"
    },
    {
     "data": {
      "image/png": "[encoded data removed]",
      "text/plain": [
       "<Figure size 432x288 with 2 Axes>"
      ]
     },
     "metadata": {
      "needs_background": "light",
      "tags": []
     },
     "output_type": "display_data"
    }
   ],
   "source": [
    "sn.heatmap(cm,annot=True,fmt='d')"
   ]
  },
  {
   "cell_type": "markdown",
   "metadata": {
    "id": "KMm6DthKvjvP"
   },
   "source": [
    "# this is complete disaster"
   ]
  },
  {
   "cell_type": "markdown",
   "metadata": {
    "id": "Wyigq1SRwKby"
   },
   "source": [
    "# lets use logistic regression for classification"
   ]
  },
  {
   "cell_type": "code",
   "execution_count": 146,
   "metadata": {
    "id": "uUZV5vyVwZXv"
   },
   "outputs": [],
   "source": [
    "x_train=[]\n",
    "labels=[]\n",
    "for img,label in data:\n",
    "  x_train.append(img)\n",
    "  labels.append(label)\n",
    "x_train=np.array(x_train)\n",
    "labels=np.array(labels)"
   ]
  },
  {
   "cell_type": "code",
   "execution_count": 154,
   "metadata": {
    "id": "c99VjXz-xIqm"
   },
   "outputs": [],
   "source": [
    "x_train=x_train.reshape(253,32*32)"
   ]
  },
  {
   "cell_type": "code",
   "execution_count": 156,
   "metadata": {
    "id": "FxQ_LWvUx3mv"
   },
   "outputs": [],
   "source": [
    "from sklearn.model_selection import train_test_split"
   ]
  },
  {
   "cell_type": "code",
   "execution_count": 158,
   "metadata": {
    "id": "5vPTkBM1x-r_"
   },
   "outputs": [],
   "source": [
    "x_train,x_test,y_train,y_test=train_test_split(x_train,labels,test_size=0.2,random_state=0)"
   ]
  },
  {
   "cell_type": "code",
   "execution_count": 159,
   "metadata": {
    "id": "af28RHbPwslB"
   },
   "outputs": [],
   "source": [
    "from sklearn.linear_model import LogisticRegression"
   ]
  },
  {
   "cell_type": "code",
   "execution_count": 160,
   "metadata": {
    "id": "kVdZnrcpw9-L"
   },
   "outputs": [],
   "source": [
    "model=LogisticRegression()"
   ]
  },
  {
   "cell_type": "code",
   "execution_count": 161,
   "metadata": {
    "colab": {
     "base_uri": "https://localhost:8080/"
    },
    "id": "lyzY-lKxxA8h",
    "outputId": "fdc5521e-d65e-4dab-e1e6-6f5413a4d3a2"
   },
   "outputs": [
    {
     "name": "stderr",
     "output_type": "stream",
     "text": [
      "/usr/local/lib/python3.6/dist-packages/sklearn/linear_model/_logistic.py:940: ConvergenceWarning: lbfgs failed to converge (status=1):\n",
      "STOP: TOTAL NO. of ITERATIONS REACHED LIMIT.\n",
      "\n",
      "Increase the number of iterations (max_iter) or scale the data as shown in:\n",
      "    https://scikit-learn.org/stable/modules/preprocessing.html\n",
      "Please also refer to the documentation for alternative solver options:\n",
      "    https://scikit-learn.org/stable/modules/linear_model.html#logistic-regression\n",
      "  extra_warning_msg=_LOGISTIC_SOLVER_CONVERGENCE_MSG)\n"
     ]
    },
    {
     "data": {
      "text/plain": [
       "LogisticRegression(C=1.0, class_weight=None, dual=False, fit_intercept=True,\n",
       "                   intercept_scaling=1, l1_ratio=None, max_iter=100,\n",
       "                   multi_class='auto', n_jobs=None, penalty='l2',\n",
       "                   random_state=None, solver='lbfgs', tol=0.0001, verbose=0,\n",
       "                   warm_start=False)"
      ]
     },
     "execution_count": 161,
     "metadata": {
      "tags": []
     },
     "output_type": "execute_result"
    }
   ],
   "source": [
    "model.fit(x_train,y_train)"
   ]
  },
  {
   "cell_type": "code",
   "execution_count": 162,
   "metadata": {
    "colab": {
     "base_uri": "https://localhost:8080/"
    },
    "id": "EySUHH55xEbj",
    "outputId": "cfc46efa-7692-42d6-c2b3-61355886bccb"
   },
   "outputs": [
    {
     "data": {
      "text/plain": [
       "0.7058823529411765"
      ]
     },
     "execution_count": 162,
     "metadata": {
      "tags": []
     },
     "output_type": "execute_result"
    }
   ],
   "source": [
    "model.score(x_test,y_test)"
   ]
  },
  {
   "cell_type": "code",
   "execution_count": 164,
   "metadata": {
    "id": "okQJJMkwyWmq"
   },
   "outputs": [],
   "source": [
    "y_pred=model.predict(x_test)"
   ]
  },
  {
   "cell_type": "code",
   "execution_count": 165,
   "metadata": {
    "colab": {
     "base_uri": "https://localhost:8080/"
    },
    "id": "TkRTpqgEydBx",
    "outputId": "6f8e4a39-17ab-4cf1-9eb4-3b6ae7711722"
   },
   "outputs": [
    {
     "data": {
      "text/plain": [
       "array([0, 1, 1, 1, 1, 0, 0, 1, 0, 1])"
      ]
     },
     "execution_count": 165,
     "metadata": {
      "tags": []
     },
     "output_type": "execute_result"
    }
   ],
   "source": [
    "y_pred[:10]"
   ]
  },
  {
   "cell_type": "code",
   "execution_count": 166,
   "metadata": {
    "colab": {
     "base_uri": "https://localhost:8080/"
    },
    "id": "vCjpMB19ylUU",
    "outputId": "7848f992-d2d4-4271-d1ec-71445aa65fa4"
   },
   "outputs": [
    {
     "data": {
      "text/plain": [
       "array([0, 1, 1, 1, 0, 0, 0, 1, 1, 0])"
      ]
     },
     "execution_count": 166,
     "metadata": {
      "tags": []
     },
     "output_type": "execute_result"
    }
   ],
   "source": [
    "y_test[:10]"
   ]
  },
  {
   "cell_type": "code",
   "execution_count": 167,
   "metadata": {
    "id": "pn3DJSuoyoQo"
   },
   "outputs": [],
   "source": [
    "cm2=confusion_matrix(y_pred,y_test)"
   ]
  },
  {
   "cell_type": "code",
   "execution_count": 168,
   "metadata": {
    "colab": {
     "base_uri": "https://localhost:8080/",
     "height": 282
    },
    "id": "EDb3RE0oyxcf",
    "outputId": "ebc2c835-1881-49ac-9498-7dc84073e14e"
   },
   "outputs": [
    {
     "data": {
      "text/plain": [
       "<matplotlib.axes._subplots.AxesSubplot at 0x7f45c5a1e0f0>"
      ]
     },
     "execution_count": 168,
     "metadata": {
      "tags": []
     },
     "output_type": "execute_result"
    },
    {
     "data": {
      "image/png": "[encoded data removed]",
      "text/plain": [
       "<Figure size 432x288 with 2 Axes>"
      ]
     },
     "metadata": {
      "needs_background": "light",
      "tags": []
     },
     "output_type": "display_data"
    }
   ],
   "source": [
    "sn.heatmap(cm2,annot=True,fmt='d')"
   ]
  },
  {
   "cell_type": "markdown",
   "metadata": {
    "id": "aoOALJBlz3DH"
   },
   "source": [
    "#  even though we have small dataset logistic regression works really well compare to neural networks\n",
    "# we can also use various data imbalance handling techniques (like SMOTE,focal loss,duplication,ensamble method)  to improve model accuracy or hyper parameter tunning to select best fit model\n",
    "\n"
   ]
  }
 ],
 "metadata": {
  "colab": {
   "name": "Brain_Tumor_detection.ipynb",
   "provenance": []
  },
  "kernelspec": {
   "display_name": "Python 3",
   "language": "python",
   "name": "python3"
  },
  "language_info": {
   "codemirror_mode": {
    "name": "ipython",
    "version": 3
   },
   "file_extension": ".py",
   "mimetype": "text/x-python",
   "name": "python",
   "nbconvert_exporter": "python",
   "pygments_lexer": "ipython3",
   "version": "3.8.3"
  }
 },
 "nbformat": 4,
 "nbformat_minor": 1
}
